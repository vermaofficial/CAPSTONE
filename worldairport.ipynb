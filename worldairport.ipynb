{
 "cells": [
  {
   "cell_type": "markdown",
   "id": "3352d584",
   "metadata": {},
   "source": [
    "## Importing libraries "
   ]
  },
  {
   "cell_type": "code",
   "execution_count": 153,
   "id": "f2ae5c5e",
   "metadata": {},
   "outputs": [],
   "source": [
    "import pandas as pd\n",
    "import numpy as np\n",
    "import seaborn as sns\n",
    "import matplotlib.pyplot as plt\n",
    "import warnings\n",
    "warnings.filterwarnings(\"ignore\")"
   ]
  },
  {
   "cell_type": "markdown",
   "id": "21538b64",
   "metadata": {},
   "source": [
    "## Import dataset"
   ]
  },
  {
   "cell_type": "code",
   "execution_count": 154,
   "id": "09e38a60",
   "metadata": {},
   "outputs": [],
   "source": [
    "df = pd.read_csv('World_Airports.csv')"
   ]
  },
  {
   "cell_type": "code",
   "execution_count": 155,
   "id": "0d7aed47",
   "metadata": {
    "scrolled": true
   },
   "outputs": [
    {
     "data": {
      "text/html": [
       "<div>\n",
       "<style scoped>\n",
       "    .dataframe tbody tr th:only-of-type {\n",
       "        vertical-align: middle;\n",
       "    }\n",
       "\n",
       "    .dataframe tbody tr th {\n",
       "        vertical-align: top;\n",
       "    }\n",
       "\n",
       "    .dataframe thead th {\n",
       "        text-align: right;\n",
       "    }\n",
       "</style>\n",
       "<table border=\"1\" class=\"dataframe\">\n",
       "  <thead>\n",
       "    <tr style=\"text-align: right;\">\n",
       "      <th></th>\n",
       "      <th>X</th>\n",
       "      <th>Y</th>\n",
       "      <th>OBJECTID</th>\n",
       "      <th>id</th>\n",
       "      <th>airport_ident</th>\n",
       "      <th>type</th>\n",
       "      <th>name</th>\n",
       "      <th>latitude_deg</th>\n",
       "      <th>longitude_deg</th>\n",
       "      <th>elevation_ft</th>\n",
       "      <th>...</th>\n",
       "      <th>home_link</th>\n",
       "      <th>wikipedia_link</th>\n",
       "      <th>keywords</th>\n",
       "      <th>description</th>\n",
       "      <th>frequency_mhz</th>\n",
       "      <th>runway_length_ft</th>\n",
       "      <th>runway_width_ft</th>\n",
       "      <th>runway_surface</th>\n",
       "      <th>runway_lighted</th>\n",
       "      <th>runway_closed</th>\n",
       "    </tr>\n",
       "  </thead>\n",
       "  <tbody>\n",
       "    <tr>\n",
       "      <th>0</th>\n",
       "      <td>-1.301162e+07</td>\n",
       "      <td>4212194.002</td>\n",
       "      <td>1</td>\n",
       "      <td>6528</td>\n",
       "      <td>00CA</td>\n",
       "      <td>small_airport</td>\n",
       "      <td>Goldstone (GTS) Airport</td>\n",
       "      <td>35.35474</td>\n",
       "      <td>-116.885329</td>\n",
       "      <td>3038.0</td>\n",
       "      <td>...</td>\n",
       "      <td>NaN</td>\n",
       "      <td>NaN</td>\n",
       "      <td>NaN</td>\n",
       "      <td>CTAF</td>\n",
       "      <td>122.9</td>\n",
       "      <td>6000.0</td>\n",
       "      <td>80.0</td>\n",
       "      <td>ASPH</td>\n",
       "      <td>0.0</td>\n",
       "      <td>0.0</td>\n",
       "    </tr>\n",
       "    <tr>\n",
       "      <th>1</th>\n",
       "      <td>-9.034601e+06</td>\n",
       "      <td>3347916.022</td>\n",
       "      <td>2</td>\n",
       "      <td>6589</td>\n",
       "      <td>01FL</td>\n",
       "      <td>small_airport</td>\n",
       "      <td>Cedar Knoll Flying Ranch Airport</td>\n",
       "      <td>28.78190</td>\n",
       "      <td>-81.159203</td>\n",
       "      <td>19.0</td>\n",
       "      <td>...</td>\n",
       "      <td>NaN</td>\n",
       "      <td>NaN</td>\n",
       "      <td>NaN</td>\n",
       "      <td>CTAF</td>\n",
       "      <td>122.9</td>\n",
       "      <td>3000.0</td>\n",
       "      <td>50.0</td>\n",
       "      <td>TURF</td>\n",
       "      <td>1.0</td>\n",
       "      <td>0.0</td>\n",
       "    </tr>\n",
       "    <tr>\n",
       "      <th>2</th>\n",
       "      <td>-1.309952e+07</td>\n",
       "      <td>4104773.695</td>\n",
       "      <td>3</td>\n",
       "      <td>6756</td>\n",
       "      <td>04CA</td>\n",
       "      <td>small_airport</td>\n",
       "      <td>Gray Butte Field</td>\n",
       "      <td>34.56390</td>\n",
       "      <td>-117.675003</td>\n",
       "      <td>3020.0</td>\n",
       "      <td>...</td>\n",
       "      <td>NaN</td>\n",
       "      <td>NaN</td>\n",
       "      <td>NaN</td>\n",
       "      <td>CTAF</td>\n",
       "      <td>122.9</td>\n",
       "      <td>5000.0</td>\n",
       "      <td>150.0</td>\n",
       "      <td>ASPH</td>\n",
       "      <td>0.0</td>\n",
       "      <td>0.0</td>\n",
       "    </tr>\n",
       "  </tbody>\n",
       "</table>\n",
       "<p>3 rows × 28 columns</p>\n",
       "</div>"
      ],
      "text/plain": [
       "              X            Y  OBJECTID    id airport_ident           type  \\\n",
       "0 -1.301162e+07  4212194.002         1  6528          00CA  small_airport   \n",
       "1 -9.034601e+06  3347916.022         2  6589          01FL  small_airport   \n",
       "2 -1.309952e+07  4104773.695         3  6756          04CA  small_airport   \n",
       "\n",
       "                               name  latitude_deg  longitude_deg  \\\n",
       "0           Goldstone (GTS) Airport      35.35474    -116.885329   \n",
       "1  Cedar Knoll Flying Ranch Airport      28.78190     -81.159203   \n",
       "2                  Gray Butte Field      34.56390    -117.675003   \n",
       "\n",
       "   elevation_ft  ... home_link wikipedia_link keywords description  \\\n",
       "0        3038.0  ...       NaN            NaN      NaN        CTAF   \n",
       "1          19.0  ...       NaN            NaN      NaN        CTAF   \n",
       "2        3020.0  ...       NaN            NaN      NaN        CTAF   \n",
       "\n",
       "  frequency_mhz runway_length_ft runway_width_ft runway_surface  \\\n",
       "0         122.9           6000.0            80.0           ASPH   \n",
       "1         122.9           3000.0            50.0           TURF   \n",
       "2         122.9           5000.0           150.0           ASPH   \n",
       "\n",
       "  runway_lighted runway_closed  \n",
       "0            0.0           0.0  \n",
       "1            1.0           0.0  \n",
       "2            0.0           0.0  \n",
       "\n",
       "[3 rows x 28 columns]"
      ]
     },
     "execution_count": 155,
     "metadata": {},
     "output_type": "execute_result"
    }
   ],
   "source": [
    "df.head(3)"
   ]
  },
  {
   "cell_type": "code",
   "execution_count": 156,
   "id": "192bfa90",
   "metadata": {
    "scrolled": true
   },
   "outputs": [
    {
     "name": "stdout",
     "output_type": "stream",
     "text": [
      "<class 'pandas.core.frame.DataFrame'>\n",
      "RangeIndex: 75052 entries, 0 to 75051\n",
      "Data columns (total 28 columns):\n",
      " #   Column             Non-Null Count  Dtype  \n",
      "---  ------             --------------  -----  \n",
      " 0   X                  75052 non-null  float64\n",
      " 1   Y                  75052 non-null  float64\n",
      " 2   OBJECTID           75052 non-null  int64  \n",
      " 3   id                 75052 non-null  int64  \n",
      " 4   airport_ident      75052 non-null  object \n",
      " 5   type               75052 non-null  object \n",
      " 6   name               75052 non-null  object \n",
      " 7   latitude_deg       75052 non-null  float64\n",
      " 8   longitude_deg      75052 non-null  float64\n",
      " 9   elevation_ft       60789 non-null  float64\n",
      " 10  continent          38826 non-null  object \n",
      " 11  iso_country        74793 non-null  object \n",
      " 12  iso_region         75052 non-null  object \n",
      " 13  municipality       70060 non-null  object \n",
      " 14  scheduled_service  75052 non-null  object \n",
      " 15  gps_code           41172 non-null  object \n",
      " 16  iata_code          8868 non-null   object \n",
      " 17  local_code         32552 non-null  object \n",
      " 18  home_link          3601 non-null   object \n",
      " 19  wikipedia_link     10874 non-null  object \n",
      " 20  keywords           16667 non-null  object \n",
      " 21  description        24839 non-null  object \n",
      " 22  frequency_mhz      10673 non-null  float64\n",
      " 23  runway_length_ft   37819 non-null  float64\n",
      " 24  runway_width_ft    35575 non-null  float64\n",
      " 25  runway_surface     37564 non-null  object \n",
      " 26  runway_lighted     37999 non-null  float64\n",
      " 27  runway_closed      37999 non-null  float64\n",
      "dtypes: float64(10), int64(2), object(16)\n",
      "memory usage: 16.0+ MB\n"
     ]
    }
   ],
   "source": [
    "df.info()"
   ]
  },
  {
   "cell_type": "markdown",
   "id": "a6ef4a88",
   "metadata": {},
   "source": [
    "# Checking null values in the dataset"
   ]
  },
  {
   "cell_type": "code",
   "execution_count": 157,
   "id": "92b9419f",
   "metadata": {},
   "outputs": [
    {
     "data": {
      "text/plain": [
       "X                        0\n",
       "Y                        0\n",
       "OBJECTID                 0\n",
       "id                       0\n",
       "airport_ident            0\n",
       "type                     0\n",
       "name                     0\n",
       "latitude_deg             0\n",
       "longitude_deg            0\n",
       "elevation_ft         14263\n",
       "continent            36226\n",
       "iso_country            259\n",
       "iso_region               0\n",
       "municipality          4992\n",
       "scheduled_service        0\n",
       "gps_code             33880\n",
       "iata_code            66184\n",
       "local_code           42500\n",
       "home_link            71451\n",
       "wikipedia_link       64178\n",
       "keywords             58385\n",
       "description          50213\n",
       "frequency_mhz        64379\n",
       "runway_length_ft     37233\n",
       "runway_width_ft      39477\n",
       "runway_surface       37488\n",
       "runway_lighted       37053\n",
       "runway_closed        37053\n",
       "dtype: int64"
      ]
     },
     "execution_count": 157,
     "metadata": {},
     "output_type": "execute_result"
    }
   ],
   "source": [
    "df.isnull().sum()"
   ]
  },
  {
   "cell_type": "markdown",
   "id": "f8d182c9",
   "metadata": {},
   "source": [
    "# Removing the attributes that are duplicate and not required"
   ]
  },
  {
   "cell_type": "code",
   "execution_count": 158,
   "id": "d8277b7b",
   "metadata": {},
   "outputs": [],
   "source": [
    "df = df.drop([\"OBJECTID\",\"id\",\"wikipedia_link\",\"home_link\"],axis=1)"
   ]
  },
  {
   "cell_type": "markdown",
   "id": "aca0ed3a",
   "metadata": {},
   "source": [
    "\n",
    "\n",
    "\n",
    "\n",
    "# Replacing null values"
   ]
  },
  {
   "cell_type": "code",
   "execution_count": 159,
   "id": "21061159",
   "metadata": {},
   "outputs": [
    {
     "data": {
      "text/plain": [
       "X                        0\n",
       "Y                        0\n",
       "airport_ident            0\n",
       "type                     0\n",
       "name                     0\n",
       "latitude_deg             0\n",
       "longitude_deg            0\n",
       "elevation_ft         14263\n",
       "continent            36226\n",
       "iso_country            259\n",
       "iso_region               0\n",
       "municipality          4992\n",
       "scheduled_service        0\n",
       "gps_code             33880\n",
       "iata_code            66184\n",
       "local_code           42500\n",
       "keywords             58385\n",
       "description          50213\n",
       "frequency_mhz        64379\n",
       "runway_length_ft     37233\n",
       "runway_width_ft      39477\n",
       "runway_surface       37488\n",
       "runway_lighted       37053\n",
       "runway_closed        37053\n",
       "dtype: int64"
      ]
     },
     "execution_count": 159,
     "metadata": {},
     "output_type": "execute_result"
    }
   ],
   "source": [
    "df.isnull().sum()"
   ]
  },
  {
   "cell_type": "code",
   "execution_count": 160,
   "id": "e6921392",
   "metadata": {},
   "outputs": [],
   "source": [
    "mean_elevation_ft = round(df[\"elevation_ft\"].mean(),0)\n",
    "mean__frequency_mhz = round(df[\"frequency_mhz\"].mean(),0)\n",
    "mean_runway_length_ftt = round(df[\"runway_length_ft\"].mean(),0)\n",
    "mean_runway_width_ft = round(df[\"runway_width_ft\"].mean(),0)\n",
    "mean_runway_lighted = round(df[\"runway_lighted\"].mean(),0)\n",
    "mean_runway_closed = round(df[\"runway_closed\"].mean(),0)"
   ]
  },
  {
   "cell_type": "code",
   "execution_count": 161,
   "id": "355f4d76",
   "metadata": {},
   "outputs": [
    {
     "data": {
      "text/plain": [
       "0        122.9\n",
       "1        122.9\n",
       "2        122.9\n",
       "3        122.8\n",
       "4        123.0\n",
       "         ...  \n",
       "75047    131.0\n",
       "75048    131.0\n",
       "75049    131.0\n",
       "75050    131.0\n",
       "75051    131.0\n",
       "Name: frequency_mhz, Length: 75052, dtype: float64"
      ]
     },
     "execution_count": 161,
     "metadata": {},
     "output_type": "execute_result"
    }
   ],
   "source": [
    "df[\"frequency_mhz\"]=df[\"frequency_mhz\"].fillna(mean__frequency_mhz)\n",
    "df[\"frequency_mhz\"]"
   ]
  },
  {
   "cell_type": "code",
   "execution_count": 162,
   "id": "f040ce65",
   "metadata": {},
   "outputs": [
    {
     "data": {
      "text/plain": [
       "0        0.0\n",
       "1        0.0\n",
       "2        0.0\n",
       "3        0.0\n",
       "4        0.0\n",
       "        ... \n",
       "75047    0.0\n",
       "75048    0.0\n",
       "75049    0.0\n",
       "75050    0.0\n",
       "75051    0.0\n",
       "Name: runway_closed, Length: 75052, dtype: float64"
      ]
     },
     "execution_count": 162,
     "metadata": {},
     "output_type": "execute_result"
    }
   ],
   "source": [
    "df[\"runway_closed\"]=df[\"runway_closed\"].fillna(mean_runway_closed)\n",
    "df[\"runway_closed\"]"
   ]
  },
  {
   "cell_type": "code",
   "execution_count": 163,
   "id": "80c33f3f",
   "metadata": {},
   "outputs": [
    {
     "data": {
      "text/plain": [
       "0        6000.0\n",
       "1        3000.0\n",
       "2        5000.0\n",
       "3        3400.0\n",
       "4        3240.0\n",
       "          ...  \n",
       "75047    3051.0\n",
       "75048    3051.0\n",
       "75049    3051.0\n",
       "75050    3051.0\n",
       "75051    3051.0\n",
       "Name: runway_length_ft, Length: 75052, dtype: float64"
      ]
     },
     "execution_count": 163,
     "metadata": {},
     "output_type": "execute_result"
    }
   ],
   "source": [
    "df[\"runway_length_ft\"]=df[\"runway_length_ft\"].fillna(mean_runway_length_ftt)\n",
    "df[\"runway_length_ft\"]"
   ]
  },
  {
   "cell_type": "code",
   "execution_count": 164,
   "id": "44a1fb5e",
   "metadata": {},
   "outputs": [
    {
     "data": {
      "text/plain": [
       "0        0.0\n",
       "1        1.0\n",
       "2        0.0\n",
       "3        0.0\n",
       "4        1.0\n",
       "        ... \n",
       "75047    0.0\n",
       "75048    0.0\n",
       "75049    0.0\n",
       "75050    0.0\n",
       "75051    0.0\n",
       "Name: runway_lighted, Length: 75052, dtype: float64"
      ]
     },
     "execution_count": 164,
     "metadata": {},
     "output_type": "execute_result"
    }
   ],
   "source": [
    "df[\"runway_lighted\"]=df[\"runway_lighted\"].fillna(mean_runway_lighted)\n",
    "df[\"runway_lighted\"]"
   ]
  },
  {
   "cell_type": "code",
   "execution_count": 165,
   "id": "2e07ccc7",
   "metadata": {},
   "outputs": [
    {
     "data": {
      "text/plain": [
       "0         80.0\n",
       "1         50.0\n",
       "2        150.0\n",
       "3        100.0\n",
       "4         45.0\n",
       "         ...  \n",
       "75047    104.0\n",
       "75048    104.0\n",
       "75049    104.0\n",
       "75050    104.0\n",
       "75051    104.0\n",
       "Name: runway_width_ft, Length: 75052, dtype: float64"
      ]
     },
     "execution_count": 165,
     "metadata": {},
     "output_type": "execute_result"
    }
   ],
   "source": [
    "df[\"runway_width_ft\"]=df[\"runway_width_ft\"].fillna(mean_runway_width_ft)\n",
    "df[\"runway_width_ft\"]"
   ]
  },
  {
   "cell_type": "code",
   "execution_count": 166,
   "id": "1f384d52",
   "metadata": {},
   "outputs": [
    {
     "data": {
      "text/plain": [
       "0        3038.0\n",
       "1          19.0\n",
       "2        3020.0\n",
       "3         100.0\n",
       "4        2620.0\n",
       "          ...  \n",
       "75047    1997.0\n",
       "75048    1301.0\n",
       "75049      40.0\n",
       "75050      11.0\n",
       "75051       4.0\n",
       "Name: elevation_ft, Length: 75052, dtype: float64"
      ]
     },
     "execution_count": 166,
     "metadata": {},
     "output_type": "execute_result"
    }
   ],
   "source": [
    "df[\"elevation_ft\"]=df[\"elevation_ft\"].fillna(mean_elevation_ft)\n",
    "df[\"elevation_ft\"]"
   ]
  },
  {
   "cell_type": "code",
   "execution_count": 167,
   "id": "fb348b64",
   "metadata": {},
   "outputs": [
    {
     "data": {
      "text/plain": [
       "X                        0\n",
       "Y                        0\n",
       "airport_ident            0\n",
       "type                     0\n",
       "name                     0\n",
       "latitude_deg             0\n",
       "longitude_deg            0\n",
       "elevation_ft             0\n",
       "continent            36226\n",
       "iso_country            259\n",
       "iso_region               0\n",
       "municipality          4992\n",
       "scheduled_service        0\n",
       "gps_code             33880\n",
       "iata_code            66184\n",
       "local_code           42500\n",
       "keywords             58385\n",
       "description          50213\n",
       "frequency_mhz            0\n",
       "runway_length_ft         0\n",
       "runway_width_ft          0\n",
       "runway_surface       37488\n",
       "runway_lighted           0\n",
       "runway_closed            0\n",
       "dtype: int64"
      ]
     },
     "execution_count": 167,
     "metadata": {},
     "output_type": "execute_result"
    }
   ],
   "source": [
    "df.isnull().sum()"
   ]
  },
  {
   "cell_type": "markdown",
   "id": "50e937db",
   "metadata": {},
   "source": [
    "# Converting datatypes"
   ]
  },
  {
   "cell_type": "code",
   "execution_count": 168,
   "id": "b5415e4b",
   "metadata": {},
   "outputs": [],
   "source": [
    "def fill_categorical_nulls_with_most_frequent(df, continent):\n",
    "    most_frequent_value = df[continent].mode()[0]\n",
    "    df[continent].fillna(most_frequent_value, inplace=True)"
   ]
  },
  {
   "cell_type": "code",
   "execution_count": null,
   "id": "13f85d9b",
   "metadata": {},
   "outputs": [],
   "source": []
  },
  {
   "cell_type": "code",
   "execution_count": 169,
   "id": "446f4bbd",
   "metadata": {},
   "outputs": [],
   "source": [
    "fill_categorical_nulls_with_most_frequent(df, 'continent')"
   ]
  },
  {
   "cell_type": "code",
   "execution_count": 170,
   "id": "1021d82b",
   "metadata": {
    "scrolled": true
   },
   "outputs": [
    {
     "data": {
      "text/plain": [
       "X                        0\n",
       "Y                        0\n",
       "airport_ident            0\n",
       "type                     0\n",
       "name                     0\n",
       "latitude_deg             0\n",
       "longitude_deg            0\n",
       "elevation_ft             0\n",
       "continent                0\n",
       "iso_country            259\n",
       "iso_region               0\n",
       "municipality          4992\n",
       "scheduled_service        0\n",
       "gps_code             33880\n",
       "iata_code            66184\n",
       "local_code           42500\n",
       "keywords             58385\n",
       "description          50213\n",
       "frequency_mhz            0\n",
       "runway_length_ft         0\n",
       "runway_width_ft          0\n",
       "runway_surface       37488\n",
       "runway_lighted           0\n",
       "runway_closed            0\n",
       "dtype: int64"
      ]
     },
     "execution_count": 170,
     "metadata": {},
     "output_type": "execute_result"
    }
   ],
   "source": [
    "df.isnull().sum()"
   ]
  },
  {
   "cell_type": "code",
   "execution_count": 171,
   "id": "c5e8591c",
   "metadata": {},
   "outputs": [],
   "source": [
    "def fill_categorical_nulls_with_most_frequent(df, categorical_columns):\n",
    "    for column_name in categorical_columns:\n",
    "        most_frequent_value = df[column_name].mode()[0]\n",
    "        df[column_name].fillna(most_frequent_value, inplace=True)"
   ]
  },
  {
   "cell_type": "code",
   "execution_count": 172,
   "id": "ec6b5131",
   "metadata": {},
   "outputs": [],
   "source": [
    "categorical_columns = ['iso_country', 'municipality', 'gps_code','iata_code','local_code','keywords','description','runway_surface'] "
   ]
  },
  {
   "cell_type": "code",
   "execution_count": 173,
   "id": "47924a1a",
   "metadata": {},
   "outputs": [],
   "source": [
    "fill_categorical_nulls_with_most_frequent(df, categorical_columns)"
   ]
  },
  {
   "cell_type": "code",
   "execution_count": 174,
   "id": "05219d72",
   "metadata": {},
   "outputs": [
    {
     "data": {
      "text/plain": [
       "X                    0\n",
       "Y                    0\n",
       "airport_ident        0\n",
       "type                 0\n",
       "name                 0\n",
       "latitude_deg         0\n",
       "longitude_deg        0\n",
       "elevation_ft         0\n",
       "continent            0\n",
       "iso_country          0\n",
       "iso_region           0\n",
       "municipality         0\n",
       "scheduled_service    0\n",
       "gps_code             0\n",
       "iata_code            0\n",
       "local_code           0\n",
       "keywords             0\n",
       "description          0\n",
       "frequency_mhz        0\n",
       "runway_length_ft     0\n",
       "runway_width_ft      0\n",
       "runway_surface       0\n",
       "runway_lighted       0\n",
       "runway_closed        0\n",
       "dtype: int64"
      ]
     },
     "execution_count": 174,
     "metadata": {},
     "output_type": "execute_result"
    }
   ],
   "source": [
    "df.isnull().sum()"
   ]
  },
  {
   "cell_type": "code",
   "execution_count": 175,
   "id": "897ef528",
   "metadata": {},
   "outputs": [
    {
     "data": {
      "text/html": [
       "<div>\n",
       "<style scoped>\n",
       "    .dataframe tbody tr th:only-of-type {\n",
       "        vertical-align: middle;\n",
       "    }\n",
       "\n",
       "    .dataframe tbody tr th {\n",
       "        vertical-align: top;\n",
       "    }\n",
       "\n",
       "    .dataframe thead th {\n",
       "        text-align: right;\n",
       "    }\n",
       "</style>\n",
       "<table border=\"1\" class=\"dataframe\">\n",
       "  <thead>\n",
       "    <tr style=\"text-align: right;\">\n",
       "      <th></th>\n",
       "      <th>X</th>\n",
       "      <th>Y</th>\n",
       "      <th>airport_ident</th>\n",
       "      <th>type</th>\n",
       "      <th>name</th>\n",
       "      <th>latitude_deg</th>\n",
       "      <th>longitude_deg</th>\n",
       "      <th>elevation_ft</th>\n",
       "      <th>continent</th>\n",
       "      <th>iso_country</th>\n",
       "      <th>...</th>\n",
       "      <th>iata_code</th>\n",
       "      <th>local_code</th>\n",
       "      <th>keywords</th>\n",
       "      <th>description</th>\n",
       "      <th>frequency_mhz</th>\n",
       "      <th>runway_length_ft</th>\n",
       "      <th>runway_width_ft</th>\n",
       "      <th>runway_surface</th>\n",
       "      <th>runway_lighted</th>\n",
       "      <th>runway_closed</th>\n",
       "    </tr>\n",
       "  </thead>\n",
       "  <tbody>\n",
       "    <tr>\n",
       "      <th>0</th>\n",
       "      <td>-1.301162e+07</td>\n",
       "      <td>4212194.002</td>\n",
       "      <td>00CA</td>\n",
       "      <td>small_airport</td>\n",
       "      <td>Goldstone (GTS) Airport</td>\n",
       "      <td>35.35474</td>\n",
       "      <td>-116.885329</td>\n",
       "      <td>3038.0</td>\n",
       "      <td>AS</td>\n",
       "      <td>US</td>\n",
       "      <td>...</td>\n",
       "      <td>AAA</td>\n",
       "      <td>00CA</td>\n",
       "      <td>Mukho</td>\n",
       "      <td>CTAF</td>\n",
       "      <td>122.9</td>\n",
       "      <td>6000.0</td>\n",
       "      <td>80.0</td>\n",
       "      <td>ASPH</td>\n",
       "      <td>0.0</td>\n",
       "      <td>0.0</td>\n",
       "    </tr>\n",
       "    <tr>\n",
       "      <th>1</th>\n",
       "      <td>-9.034601e+06</td>\n",
       "      <td>3347916.022</td>\n",
       "      <td>01FL</td>\n",
       "      <td>small_airport</td>\n",
       "      <td>Cedar Knoll Flying Ranch Airport</td>\n",
       "      <td>28.78190</td>\n",
       "      <td>-81.159203</td>\n",
       "      <td>19.0</td>\n",
       "      <td>AS</td>\n",
       "      <td>US</td>\n",
       "      <td>...</td>\n",
       "      <td>AAA</td>\n",
       "      <td>01FL</td>\n",
       "      <td>Mukho</td>\n",
       "      <td>CTAF</td>\n",
       "      <td>122.9</td>\n",
       "      <td>3000.0</td>\n",
       "      <td>50.0</td>\n",
       "      <td>TURF</td>\n",
       "      <td>1.0</td>\n",
       "      <td>0.0</td>\n",
       "    </tr>\n",
       "  </tbody>\n",
       "</table>\n",
       "<p>2 rows × 24 columns</p>\n",
       "</div>"
      ],
      "text/plain": [
       "              X            Y airport_ident           type  \\\n",
       "0 -1.301162e+07  4212194.002          00CA  small_airport   \n",
       "1 -9.034601e+06  3347916.022          01FL  small_airport   \n",
       "\n",
       "                               name  latitude_deg  longitude_deg  \\\n",
       "0           Goldstone (GTS) Airport      35.35474    -116.885329   \n",
       "1  Cedar Knoll Flying Ranch Airport      28.78190     -81.159203   \n",
       "\n",
       "   elevation_ft continent iso_country  ... iata_code local_code keywords  \\\n",
       "0        3038.0        AS          US  ...       AAA       00CA    Mukho   \n",
       "1          19.0        AS          US  ...       AAA       01FL    Mukho   \n",
       "\n",
       "  description frequency_mhz runway_length_ft runway_width_ft runway_surface  \\\n",
       "0        CTAF         122.9           6000.0            80.0           ASPH   \n",
       "1        CTAF         122.9           3000.0            50.0           TURF   \n",
       "\n",
       "   runway_lighted  runway_closed  \n",
       "0             0.0            0.0  \n",
       "1             1.0            0.0  \n",
       "\n",
       "[2 rows x 24 columns]"
      ]
     },
     "execution_count": 175,
     "metadata": {},
     "output_type": "execute_result"
    }
   ],
   "source": [
    "df.head(2)"
   ]
  },
  {
   "cell_type": "code",
   "execution_count": 176,
   "id": "f8ab6d26",
   "metadata": {
    "scrolled": true
   },
   "outputs": [
    {
     "data": {
      "text/plain": [
       "X                    float64\n",
       "Y                    float64\n",
       "airport_ident         object\n",
       "type                  object\n",
       "name                  object\n",
       "latitude_deg         float64\n",
       "longitude_deg        float64\n",
       "elevation_ft         float64\n",
       "continent             object\n",
       "iso_country           object\n",
       "iso_region            object\n",
       "municipality          object\n",
       "scheduled_service     object\n",
       "gps_code              object\n",
       "iata_code             object\n",
       "local_code            object\n",
       "keywords              object\n",
       "description           object\n",
       "frequency_mhz        float64\n",
       "runway_length_ft     float64\n",
       "runway_width_ft      float64\n",
       "runway_surface        object\n",
       "runway_lighted       float64\n",
       "runway_closed        float64\n",
       "dtype: object"
      ]
     },
     "execution_count": 176,
     "metadata": {},
     "output_type": "execute_result"
    }
   ],
   "source": [
    "df.dtypes"
   ]
  },
  {
   "cell_type": "markdown",
   "id": "1d68ef91",
   "metadata": {},
   "source": [
    "# Displaying unique values \n"
   ]
  },
  {
   "cell_type": "code",
   "execution_count": 177,
   "id": "8f8865c4",
   "metadata": {},
   "outputs": [],
   "source": [
    "df[\"airport_ident\"]=df[\"airport_ident\"].astype(\"category\")\n",
    "df[\"type\"] = df[\"type\"].astype(\"category\")\n",
    "df[\"continent\"] = df[\"continent\"].astype(\"category\")\n",
    "df[\"name\"] = df[\"name\"].astype(\"category\")\n",
    "df[\"iso_country\"] = df[\"iso_country\"].astype(\"category\")\n",
    "df[\"iso_region\"]=df[\"iso_region\"].astype(\"category\")\n",
    "df[\"municipality\"] = df[\"municipality\"].astype(\"category\")\n",
    "df[\"scheduled_service\"] = df[\"scheduled_service\"].astype(\"category\")\n",
    "df[\"gps_code\"] = df[\"gps_code\"].astype(\"category\")\n",
    "df[\"iata_code\"] = df[\"iata_code\"].astype(\"category\")\n",
    "df[\"local_code\"] = df[\"local_code\"].astype(\"category\")\n",
    "df[\"keywords\"] = df[\"keywords\"].astype(\"category\")\n",
    "df[\"description\"] = df[\"description\"].astype(\"category\")\n",
    "df[\"runway_surface\"] = df[\"runway_surface\"].astype(\"category\")"
   ]
  },
  {
   "cell_type": "code",
   "execution_count": 178,
   "id": "a0a531ff",
   "metadata": {},
   "outputs": [
    {
     "data": {
      "text/plain": [
       "X                     float64\n",
       "Y                     float64\n",
       "airport_ident        category\n",
       "type                 category\n",
       "name                 category\n",
       "latitude_deg          float64\n",
       "longitude_deg         float64\n",
       "elevation_ft          float64\n",
       "continent            category\n",
       "iso_country          category\n",
       "iso_region           category\n",
       "municipality         category\n",
       "scheduled_service    category\n",
       "gps_code             category\n",
       "iata_code            category\n",
       "local_code           category\n",
       "keywords             category\n",
       "description          category\n",
       "frequency_mhz         float64\n",
       "runway_length_ft      float64\n",
       "runway_width_ft       float64\n",
       "runway_surface       category\n",
       "runway_lighted        float64\n",
       "runway_closed         float64\n",
       "dtype: object"
      ]
     },
     "execution_count": 178,
     "metadata": {},
     "output_type": "execute_result"
    }
   ],
   "source": [
    "df.dtypes"
   ]
  },
  {
   "cell_type": "code",
   "execution_count": 179,
   "id": "700195ed",
   "metadata": {},
   "outputs": [
    {
     "data": {
      "text/plain": [
       "['00CA', '01FL', '04CA', '04MS', '04NV', ..., 'ZYXW', 'ZYYY', 'ZZ-0001', 'ZZ-0002', 'ZZZW']\n",
       "Length: 75052\n",
       "Categories (75052, object): ['0.00E+00', '00A', '00AA', '00AK', ..., 'mdwo', 'qfx', 'rjns', 'spgl']"
      ]
     },
     "execution_count": 179,
     "metadata": {},
     "output_type": "execute_result"
    }
   ],
   "source": [
    "df[\"airport_ident\"].unique()"
   ]
  },
  {
   "cell_type": "code",
   "execution_count": 180,
   "id": "3b9a11d9",
   "metadata": {},
   "outputs": [],
   "source": [
    "#df[\"type\"]=df[\"type\"].cat.codes\n",
    "df[\"airport_ident\"]=df[\"airport_ident\"].cat.codes\n",
    "df[\"name\"]=df[\"name\"].cat.codes\n",
    "df[\"continent\"]=df[\"continent\"].cat.codes\n",
    "df[\"iso_country\"]=df[\"iso_country\"].cat.codes\n",
    "df[\"iso_region\"]=df[\"iso_region\"].cat.codes\n",
    "df[\"municipality\"]=df[\"municipality\"].cat.codes\n",
    "df[\"scheduled_service\"]=df[\"scheduled_service\"].cat.codes\n",
    "df[\"gps_code\"]=df[\"gps_code\"].cat.codes\n",
    "df[\"iata_code\"]=df[\"iata_code\"].cat.codes\n",
    "df[\"local_code\"]=df[\"local_code\"].cat.codes\n",
    "df[\"keywords\"]=df[\"keywords\"].cat.codes\n",
    "df[\"description\"]=df[\"description\"].cat.codes\n",
    "df[\"runway_surface\"]=df[\"runway_surface\"].cat.codes\n"
   ]
  },
  {
   "cell_type": "code",
   "execution_count": 181,
   "id": "93bfb31c",
   "metadata": {
    "scrolled": true
   },
   "outputs": [
    {
     "data": {
      "text/html": [
       "<div>\n",
       "<style scoped>\n",
       "    .dataframe tbody tr th:only-of-type {\n",
       "        vertical-align: middle;\n",
       "    }\n",
       "\n",
       "    .dataframe tbody tr th {\n",
       "        vertical-align: top;\n",
       "    }\n",
       "\n",
       "    .dataframe thead th {\n",
       "        text-align: right;\n",
       "    }\n",
       "</style>\n",
       "<table border=\"1\" class=\"dataframe\">\n",
       "  <thead>\n",
       "    <tr style=\"text-align: right;\">\n",
       "      <th></th>\n",
       "      <th>X</th>\n",
       "      <th>Y</th>\n",
       "      <th>airport_ident</th>\n",
       "      <th>type</th>\n",
       "      <th>name</th>\n",
       "      <th>latitude_deg</th>\n",
       "      <th>longitude_deg</th>\n",
       "      <th>elevation_ft</th>\n",
       "      <th>continent</th>\n",
       "      <th>iso_country</th>\n",
       "      <th>...</th>\n",
       "      <th>iata_code</th>\n",
       "      <th>local_code</th>\n",
       "      <th>keywords</th>\n",
       "      <th>description</th>\n",
       "      <th>frequency_mhz</th>\n",
       "      <th>runway_length_ft</th>\n",
       "      <th>runway_width_ft</th>\n",
       "      <th>runway_surface</th>\n",
       "      <th>runway_lighted</th>\n",
       "      <th>runway_closed</th>\n",
       "    </tr>\n",
       "  </thead>\n",
       "  <tbody>\n",
       "    <tr>\n",
       "      <th>0</th>\n",
       "      <td>-1.301162e+07</td>\n",
       "      <td>4212194.002</td>\n",
       "      <td>9</td>\n",
       "      <td>small_airport</td>\n",
       "      <td>25466</td>\n",
       "      <td>35.354740</td>\n",
       "      <td>-116.885329</td>\n",
       "      <td>3038.0</td>\n",
       "      <td>2</td>\n",
       "      <td>226</td>\n",
       "      <td>...</td>\n",
       "      <td>0</td>\n",
       "      <td>10</td>\n",
       "      <td>8942</td>\n",
       "      <td>485</td>\n",
       "      <td>122.9</td>\n",
       "      <td>6000.0</td>\n",
       "      <td>80.0</td>\n",
       "      <td>18</td>\n",
       "      <td>0.0</td>\n",
       "      <td>0.0</td>\n",
       "    </tr>\n",
       "    <tr>\n",
       "      <th>1</th>\n",
       "      <td>-9.034601e+06</td>\n",
       "      <td>3347916.022</td>\n",
       "      <td>80</td>\n",
       "      <td>small_airport</td>\n",
       "      <td>11782</td>\n",
       "      <td>28.781900</td>\n",
       "      <td>-81.159203</td>\n",
       "      <td>19.0</td>\n",
       "      <td>2</td>\n",
       "      <td>226</td>\n",
       "      <td>...</td>\n",
       "      <td>0</td>\n",
       "      <td>83</td>\n",
       "      <td>8942</td>\n",
       "      <td>485</td>\n",
       "      <td>122.9</td>\n",
       "      <td>3000.0</td>\n",
       "      <td>50.0</td>\n",
       "      <td>463</td>\n",
       "      <td>1.0</td>\n",
       "      <td>0.0</td>\n",
       "    </tr>\n",
       "    <tr>\n",
       "      <th>2</th>\n",
       "      <td>-1.309952e+07</td>\n",
       "      <td>4104773.695</td>\n",
       "      <td>275</td>\n",
       "      <td>small_airport</td>\n",
       "      <td>26007</td>\n",
       "      <td>34.563900</td>\n",
       "      <td>-117.675003</td>\n",
       "      <td>3020.0</td>\n",
       "      <td>2</td>\n",
       "      <td>226</td>\n",
       "      <td>...</td>\n",
       "      <td>0</td>\n",
       "      <td>282</td>\n",
       "      <td>8942</td>\n",
       "      <td>485</td>\n",
       "      <td>122.9</td>\n",
       "      <td>5000.0</td>\n",
       "      <td>150.0</td>\n",
       "      <td>18</td>\n",
       "      <td>0.0</td>\n",
       "      <td>0.0</td>\n",
       "    </tr>\n",
       "    <tr>\n",
       "      <th>3</th>\n",
       "      <td>-1.011189e+07</td>\n",
       "      <td>3887413.902</td>\n",
       "      <td>300</td>\n",
       "      <td>small_airport</td>\n",
       "      <td>45952</td>\n",
       "      <td>32.940537</td>\n",
       "      <td>-90.836683</td>\n",
       "      <td>100.0</td>\n",
       "      <td>2</td>\n",
       "      <td>226</td>\n",
       "      <td>...</td>\n",
       "      <td>0</td>\n",
       "      <td>307</td>\n",
       "      <td>8942</td>\n",
       "      <td>2102</td>\n",
       "      <td>122.8</td>\n",
       "      <td>3400.0</td>\n",
       "      <td>100.0</td>\n",
       "      <td>39</td>\n",
       "      <td>0.0</td>\n",
       "      <td>0.0</td>\n",
       "    </tr>\n",
       "    <tr>\n",
       "      <th>4</th>\n",
       "      <td>-1.287577e+07</td>\n",
       "      <td>4267030.602</td>\n",
       "      <td>306</td>\n",
       "      <td>small_airport</td>\n",
       "      <td>34416</td>\n",
       "      <td>35.755501</td>\n",
       "      <td>-115.665001</td>\n",
       "      <td>2620.0</td>\n",
       "      <td>2</td>\n",
       "      <td>226</td>\n",
       "      <td>...</td>\n",
       "      <td>0</td>\n",
       "      <td>313</td>\n",
       "      <td>8942</td>\n",
       "      <td>2102</td>\n",
       "      <td>123.0</td>\n",
       "      <td>3240.0</td>\n",
       "      <td>45.0</td>\n",
       "      <td>18</td>\n",
       "      <td>1.0</td>\n",
       "      <td>0.0</td>\n",
       "    </tr>\n",
       "  </tbody>\n",
       "</table>\n",
       "<p>5 rows × 24 columns</p>\n",
       "</div>"
      ],
      "text/plain": [
       "              X            Y  airport_ident           type   name  \\\n",
       "0 -1.301162e+07  4212194.002              9  small_airport  25466   \n",
       "1 -9.034601e+06  3347916.022             80  small_airport  11782   \n",
       "2 -1.309952e+07  4104773.695            275  small_airport  26007   \n",
       "3 -1.011189e+07  3887413.902            300  small_airport  45952   \n",
       "4 -1.287577e+07  4267030.602            306  small_airport  34416   \n",
       "\n",
       "   latitude_deg  longitude_deg  elevation_ft  continent  iso_country  ...  \\\n",
       "0     35.354740    -116.885329        3038.0          2          226  ...   \n",
       "1     28.781900     -81.159203          19.0          2          226  ...   \n",
       "2     34.563900    -117.675003        3020.0          2          226  ...   \n",
       "3     32.940537     -90.836683         100.0          2          226  ...   \n",
       "4     35.755501    -115.665001        2620.0          2          226  ...   \n",
       "\n",
       "   iata_code  local_code  keywords  description  frequency_mhz  \\\n",
       "0          0          10      8942          485          122.9   \n",
       "1          0          83      8942          485          122.9   \n",
       "2          0         282      8942          485          122.9   \n",
       "3          0         307      8942         2102          122.8   \n",
       "4          0         313      8942         2102          123.0   \n",
       "\n",
       "   runway_length_ft  runway_width_ft  runway_surface  runway_lighted  \\\n",
       "0            6000.0             80.0              18             0.0   \n",
       "1            3000.0             50.0             463             1.0   \n",
       "2            5000.0            150.0              18             0.0   \n",
       "3            3400.0            100.0              39             0.0   \n",
       "4            3240.0             45.0              18             1.0   \n",
       "\n",
       "   runway_closed  \n",
       "0            0.0  \n",
       "1            0.0  \n",
       "2            0.0  \n",
       "3            0.0  \n",
       "4            0.0  \n",
       "\n",
       "[5 rows x 24 columns]"
      ]
     },
     "execution_count": 181,
     "metadata": {},
     "output_type": "execute_result"
    }
   ],
   "source": [
    "df.head()"
   ]
  },
  {
   "cell_type": "markdown",
   "id": "acd4ccc2",
   "metadata": {},
   "source": [
    "## Draw a bar plot"
   ]
  },
  {
   "cell_type": "code",
   "execution_count": 182,
   "id": "51fa2eea",
   "metadata": {},
   "outputs": [
    {
     "data": {
      "image/png": "[encoded data removed]",
      "text/plain": [
       "<Figure size 640x480 with 1 Axes>"
      ]
     },
     "metadata": {},
     "output_type": "display_data"
    }
   ],
   "source": [
    "bar=sns.barplot(x=\"type\",y=\"elevation_ft\",data=df)\n",
    "plt.xticks(rotation=45)\n",
    "plt.show(bar)"
   ]
  },
  {
   "cell_type": "code",
   "execution_count": 183,
   "id": "bf285f43",
   "metadata": {},
   "outputs": [
    {
     "data": {
      "text/html": [
       "<div>\n",
       "<style scoped>\n",
       "    .dataframe tbody tr th:only-of-type {\n",
       "        vertical-align: middle;\n",
       "    }\n",
       "\n",
       "    .dataframe tbody tr th {\n",
       "        vertical-align: top;\n",
       "    }\n",
       "\n",
       "    .dataframe thead th {\n",
       "        text-align: right;\n",
       "    }\n",
       "</style>\n",
       "<table border=\"1\" class=\"dataframe\">\n",
       "  <thead>\n",
       "    <tr style=\"text-align: right;\">\n",
       "      <th></th>\n",
       "      <th>X</th>\n",
       "      <th>Y</th>\n",
       "      <th>airport_ident</th>\n",
       "      <th>name</th>\n",
       "      <th>latitude_deg</th>\n",
       "      <th>longitude_deg</th>\n",
       "      <th>elevation_ft</th>\n",
       "      <th>continent</th>\n",
       "      <th>iso_country</th>\n",
       "      <th>iso_region</th>\n",
       "      <th>...</th>\n",
       "      <th>iata_code</th>\n",
       "      <th>local_code</th>\n",
       "      <th>keywords</th>\n",
       "      <th>description</th>\n",
       "      <th>frequency_mhz</th>\n",
       "      <th>runway_length_ft</th>\n",
       "      <th>runway_width_ft</th>\n",
       "      <th>runway_surface</th>\n",
       "      <th>runway_lighted</th>\n",
       "      <th>runway_closed</th>\n",
       "    </tr>\n",
       "  </thead>\n",
       "  <tbody>\n",
       "    <tr>\n",
       "      <th>0</th>\n",
       "      <td>-1.301162e+07</td>\n",
       "      <td>4212194.002</td>\n",
       "      <td>9</td>\n",
       "      <td>25466</td>\n",
       "      <td>35.35474</td>\n",
       "      <td>-116.885329</td>\n",
       "      <td>3038.0</td>\n",
       "      <td>2</td>\n",
       "      <td>226</td>\n",
       "      <td>2694</td>\n",
       "      <td>...</td>\n",
       "      <td>0</td>\n",
       "      <td>10</td>\n",
       "      <td>8942</td>\n",
       "      <td>485</td>\n",
       "      <td>122.9</td>\n",
       "      <td>6000.0</td>\n",
       "      <td>80.0</td>\n",
       "      <td>18</td>\n",
       "      <td>0.0</td>\n",
       "      <td>0.0</td>\n",
       "    </tr>\n",
       "    <tr>\n",
       "      <th>1</th>\n",
       "      <td>-9.034601e+06</td>\n",
       "      <td>3347916.022</td>\n",
       "      <td>80</td>\n",
       "      <td>11782</td>\n",
       "      <td>28.78190</td>\n",
       "      <td>-81.159203</td>\n",
       "      <td>19.0</td>\n",
       "      <td>2</td>\n",
       "      <td>226</td>\n",
       "      <td>2699</td>\n",
       "      <td>...</td>\n",
       "      <td>0</td>\n",
       "      <td>83</td>\n",
       "      <td>8942</td>\n",
       "      <td>485</td>\n",
       "      <td>122.9</td>\n",
       "      <td>3000.0</td>\n",
       "      <td>50.0</td>\n",
       "      <td>463</td>\n",
       "      <td>1.0</td>\n",
       "      <td>0.0</td>\n",
       "    </tr>\n",
       "  </tbody>\n",
       "</table>\n",
       "<p>2 rows × 23 columns</p>\n",
       "</div>"
      ],
      "text/plain": [
       "              X            Y  airport_ident   name  latitude_deg  \\\n",
       "0 -1.301162e+07  4212194.002              9  25466      35.35474   \n",
       "1 -9.034601e+06  3347916.022             80  11782      28.78190   \n",
       "\n",
       "   longitude_deg  elevation_ft  continent  iso_country  iso_region  ...  \\\n",
       "0    -116.885329        3038.0          2          226        2694  ...   \n",
       "1     -81.159203          19.0          2          226        2699  ...   \n",
       "\n",
       "   iata_code  local_code  keywords  description  frequency_mhz  \\\n",
       "0          0          10      8942          485          122.9   \n",
       "1          0          83      8942          485          122.9   \n",
       "\n",
       "   runway_length_ft  runway_width_ft  runway_surface  runway_lighted  \\\n",
       "0            6000.0             80.0              18             0.0   \n",
       "1            3000.0             50.0             463             1.0   \n",
       "\n",
       "   runway_closed  \n",
       "0            0.0  \n",
       "1            0.0  \n",
       "\n",
       "[2 rows x 23 columns]"
      ]
     },
     "execution_count": 183,
     "metadata": {},
     "output_type": "execute_result"
    }
   ],
   "source": [
    "dfx = df.drop(\"type\", axis = 1)\n",
    "dfx.head(2)"
   ]
  },
  {
   "cell_type": "code",
   "execution_count": 184,
   "id": "808c8404",
   "metadata": {
    "scrolled": true
   },
   "outputs": [
    {
     "data": {
      "text/plain": [
       "0    small_airport\n",
       "1    small_airport\n",
       "Name: type, dtype: category\n",
       "Categories (7, object): ['balloonport', 'closed', 'heliport', 'large_airport', 'medium_airport', 'seaplane_base', 'small_airport']"
      ]
     },
     "execution_count": 184,
     "metadata": {},
     "output_type": "execute_result"
    }
   ],
   "source": [
    "dfy = df[\"type\"]\n",
    "dfy.head(2)"
   ]
  },
  {
   "cell_type": "markdown",
   "id": "d692e653",
   "metadata": {},
   "source": [
    "## Normalize the data set :"
   ]
  },
  {
   "cell_type": "code",
   "execution_count": 185,
   "id": "bc17e469",
   "metadata": {},
   "outputs": [
    {
     "data": {
      "text/html": [
       "<div>\n",
       "<style scoped>\n",
       "    .dataframe tbody tr th:only-of-type {\n",
       "        vertical-align: middle;\n",
       "    }\n",
       "\n",
       "    .dataframe tbody tr th {\n",
       "        vertical-align: top;\n",
       "    }\n",
       "\n",
       "    .dataframe thead th {\n",
       "        text-align: right;\n",
       "    }\n",
       "</style>\n",
       "<table border=\"1\" class=\"dataframe\">\n",
       "  <thead>\n",
       "    <tr style=\"text-align: right;\">\n",
       "      <th></th>\n",
       "      <th>X</th>\n",
       "      <th>Y</th>\n",
       "      <th>airport_ident</th>\n",
       "      <th>name</th>\n",
       "      <th>latitude_deg</th>\n",
       "      <th>longitude_deg</th>\n",
       "      <th>elevation_ft</th>\n",
       "      <th>continent</th>\n",
       "      <th>iso_country</th>\n",
       "      <th>iso_region</th>\n",
       "      <th>...</th>\n",
       "      <th>iata_code</th>\n",
       "      <th>local_code</th>\n",
       "      <th>keywords</th>\n",
       "      <th>description</th>\n",
       "      <th>frequency_mhz</th>\n",
       "      <th>runway_length_ft</th>\n",
       "      <th>runway_width_ft</th>\n",
       "      <th>runway_surface</th>\n",
       "      <th>runway_lighted</th>\n",
       "      <th>runway_closed</th>\n",
       "    </tr>\n",
       "  </thead>\n",
       "  <tbody>\n",
       "    <tr>\n",
       "      <th>0</th>\n",
       "      <td>0.175048</td>\n",
       "      <td>0.598531</td>\n",
       "      <td>0.000120</td>\n",
       "      <td>0.358363</td>\n",
       "      <td>0.725642</td>\n",
       "      <td>0.175048</td>\n",
       "      <td>0.230926</td>\n",
       "      <td>0.4</td>\n",
       "      <td>0.930041</td>\n",
       "      <td>0.936392</td>\n",
       "      <td>...</td>\n",
       "      <td>0.0</td>\n",
       "      <td>0.000322</td>\n",
       "      <td>0.548219</td>\n",
       "      <td>0.211698</td>\n",
       "      <td>0.091716</td>\n",
       "      <td>0.200000</td>\n",
       "      <td>0.008889</td>\n",
       "      <td>0.030822</td>\n",
       "      <td>0.0</td>\n",
       "      <td>0.0</td>\n",
       "    </tr>\n",
       "    <tr>\n",
       "      <th>1</th>\n",
       "      <td>0.274328</td>\n",
       "      <td>0.572608</td>\n",
       "      <td>0.001066</td>\n",
       "      <td>0.165799</td>\n",
       "      <td>0.687594</td>\n",
       "      <td>0.274328</td>\n",
       "      <td>0.068945</td>\n",
       "      <td>0.4</td>\n",
       "      <td>0.930041</td>\n",
       "      <td>0.938130</td>\n",
       "      <td>...</td>\n",
       "      <td>0.0</td>\n",
       "      <td>0.002671</td>\n",
       "      <td>0.548219</td>\n",
       "      <td>0.211698</td>\n",
       "      <td>0.091716</td>\n",
       "      <td>0.100000</td>\n",
       "      <td>0.005556</td>\n",
       "      <td>0.792808</td>\n",
       "      <td>1.0</td>\n",
       "      <td>0.0</td>\n",
       "    </tr>\n",
       "    <tr>\n",
       "      <th>2</th>\n",
       "      <td>0.172854</td>\n",
       "      <td>0.595309</td>\n",
       "      <td>0.003664</td>\n",
       "      <td>0.365976</td>\n",
       "      <td>0.721065</td>\n",
       "      <td>0.172854</td>\n",
       "      <td>0.229960</td>\n",
       "      <td>0.4</td>\n",
       "      <td>0.930041</td>\n",
       "      <td>0.936392</td>\n",
       "      <td>...</td>\n",
       "      <td>0.0</td>\n",
       "      <td>0.009075</td>\n",
       "      <td>0.548219</td>\n",
       "      <td>0.211698</td>\n",
       "      <td>0.091716</td>\n",
       "      <td>0.166667</td>\n",
       "      <td>0.016667</td>\n",
       "      <td>0.030822</td>\n",
       "      <td>0.0</td>\n",
       "      <td>0.0</td>\n",
       "    </tr>\n",
       "    <tr>\n",
       "      <th>3</th>\n",
       "      <td>0.247435</td>\n",
       "      <td>0.588790</td>\n",
       "      <td>0.003997</td>\n",
       "      <td>0.646647</td>\n",
       "      <td>0.711667</td>\n",
       "      <td>0.247435</td>\n",
       "      <td>0.073291</td>\n",
       "      <td>0.4</td>\n",
       "      <td>0.930041</td>\n",
       "      <td>0.943691</td>\n",
       "      <td>...</td>\n",
       "      <td>0.0</td>\n",
       "      <td>0.009879</td>\n",
       "      <td>0.548219</td>\n",
       "      <td>0.917503</td>\n",
       "      <td>0.091642</td>\n",
       "      <td>0.113333</td>\n",
       "      <td>0.011111</td>\n",
       "      <td>0.066781</td>\n",
       "      <td>0.0</td>\n",
       "      <td>0.0</td>\n",
       "    </tr>\n",
       "    <tr>\n",
       "      <th>4</th>\n",
       "      <td>0.178440</td>\n",
       "      <td>0.600176</td>\n",
       "      <td>0.004077</td>\n",
       "      <td>0.484309</td>\n",
       "      <td>0.727962</td>\n",
       "      <td>0.178440</td>\n",
       "      <td>0.208499</td>\n",
       "      <td>0.4</td>\n",
       "      <td>0.930041</td>\n",
       "      <td>0.946472</td>\n",
       "      <td>...</td>\n",
       "      <td>0.0</td>\n",
       "      <td>0.010072</td>\n",
       "      <td>0.548219</td>\n",
       "      <td>0.917503</td>\n",
       "      <td>0.091791</td>\n",
       "      <td>0.108000</td>\n",
       "      <td>0.005000</td>\n",
       "      <td>0.030822</td>\n",
       "      <td>1.0</td>\n",
       "      <td>0.0</td>\n",
       "    </tr>\n",
       "  </tbody>\n",
       "</table>\n",
       "<p>5 rows × 23 columns</p>\n",
       "</div>"
      ],
      "text/plain": [
       "          X         Y  airport_ident      name  latitude_deg  longitude_deg  \\\n",
       "0  0.175048  0.598531       0.000120  0.358363      0.725642       0.175048   \n",
       "1  0.274328  0.572608       0.001066  0.165799      0.687594       0.274328   \n",
       "2  0.172854  0.595309       0.003664  0.365976      0.721065       0.172854   \n",
       "3  0.247435  0.588790       0.003997  0.646647      0.711667       0.247435   \n",
       "4  0.178440  0.600176       0.004077  0.484309      0.727962       0.178440   \n",
       "\n",
       "   elevation_ft  continent  iso_country  iso_region  ...  iata_code  \\\n",
       "0      0.230926        0.4     0.930041    0.936392  ...        0.0   \n",
       "1      0.068945        0.4     0.930041    0.938130  ...        0.0   \n",
       "2      0.229960        0.4     0.930041    0.936392  ...        0.0   \n",
       "3      0.073291        0.4     0.930041    0.943691  ...        0.0   \n",
       "4      0.208499        0.4     0.930041    0.946472  ...        0.0   \n",
       "\n",
       "   local_code  keywords  description  frequency_mhz  runway_length_ft  \\\n",
       "0    0.000322  0.548219     0.211698       0.091716          0.200000   \n",
       "1    0.002671  0.548219     0.211698       0.091716          0.100000   \n",
       "2    0.009075  0.548219     0.211698       0.091716          0.166667   \n",
       "3    0.009879  0.548219     0.917503       0.091642          0.113333   \n",
       "4    0.010072  0.548219     0.917503       0.091791          0.108000   \n",
       "\n",
       "   runway_width_ft  runway_surface  runway_lighted  runway_closed  \n",
       "0         0.008889        0.030822             0.0            0.0  \n",
       "1         0.005556        0.792808             1.0            0.0  \n",
       "2         0.016667        0.030822             0.0            0.0  \n",
       "3         0.011111        0.066781             0.0            0.0  \n",
       "4         0.005000        0.030822             1.0            0.0  \n",
       "\n",
       "[5 rows x 23 columns]"
      ]
     },
     "execution_count": 185,
     "metadata": {},
     "output_type": "execute_result"
    }
   ],
   "source": [
    "from sklearn.preprocessing import MinMaxScaler\n",
    "scaler = MinMaxScaler()\n",
    "scaler_dfx = pd.DataFrame(scaler.fit_transform(dfx),columns = dfx.columns)\n",
    "scaler_dfx.head(5)"
   ]
  },
  {
   "cell_type": "code",
   "execution_count": 186,
   "id": "3bf97e4f",
   "metadata": {},
   "outputs": [
    {
     "data": {
      "text/plain": [
       "Index(['X', 'Y', 'airport_ident', 'name', 'latitude_deg', 'longitude_deg',\n",
       "       'elevation_ft', 'continent', 'iso_country', 'iso_region',\n",
       "       'municipality', 'scheduled_service', 'gps_code', 'iata_code',\n",
       "       'local_code', 'keywords', 'description', 'frequency_mhz',\n",
       "       'runway_length_ft', 'runway_width_ft', 'runway_surface',\n",
       "       'runway_lighted', 'runway_closed'],\n",
       "      dtype='object')"
      ]
     },
     "execution_count": 186,
     "metadata": {},
     "output_type": "execute_result"
    }
   ],
   "source": [
    "dfx.columns"
   ]
  },
  {
   "cell_type": "markdown",
   "id": "f603e3eb",
   "metadata": {},
   "source": [
    "## Divide the dataset to training and testing sets:\n"
   ]
  },
  {
   "cell_type": "code",
   "execution_count": 187,
   "id": "6dea692f",
   "metadata": {},
   "outputs": [],
   "source": [
    "from sklearn.model_selection import train_test_split"
   ]
  },
  {
   "cell_type": "code",
   "execution_count": 188,
   "id": "29fd7bca",
   "metadata": {},
   "outputs": [],
   "source": [
    "x_train,x_test,y_train,y_test=train_test_split(scaler_dfx,dfy,test_size=0.2,random_state=4)"
   ]
  },
  {
   "cell_type": "code",
   "execution_count": 189,
   "id": "341a5c11",
   "metadata": {},
   "outputs": [
    {
     "data": {
      "text/plain": [
       "75052"
      ]
     },
     "execution_count": 189,
     "metadata": {},
     "output_type": "execute_result"
    }
   ],
   "source": [
    "scaler_dfx.shape[0]"
   ]
  },
  {
   "cell_type": "code",
   "execution_count": 190,
   "id": "3e7024bb",
   "metadata": {},
   "outputs": [],
   "source": [
    "from sklearn.neighbors import KNeighborsClassifier"
   ]
  },
  {
   "cell_type": "code",
   "execution_count": 191,
   "id": "2c1a7af1",
   "metadata": {},
   "outputs": [
    {
     "data": {
      "text/html": [
       "<style>#sk-container-id-1 {color: black;background-color: white;}#sk-container-id-1 pre{padding: 0;}#sk-container-id-1 div.sk-toggleable {background-color: white;}#sk-container-id-1 label.sk-toggleable__label {cursor: pointer;display: block;width: 100%;margin-bottom: 0;padding: 0.3em;box-sizing: border-box;text-align: center;}#sk-container-id-1 label.sk-toggleable__label-arrow:before {content: \"▸\";float: left;margin-right: 0.25em;color: #696969;}#sk-container-id-1 label.sk-toggleable__label-arrow:hover:before {color: black;}#sk-container-id-1 div.sk-estimator:hover label.sk-toggleable__label-arrow:before {color: black;}#sk-container-id-1 div.sk-toggleable__content {max-height: 0;max-width: 0;overflow: hidden;text-align: left;background-color: #f0f8ff;}#sk-container-id-1 div.sk-toggleable__content pre {margin: 0.2em;color: black;border-radius: 0.25em;background-color: #f0f8ff;}#sk-container-id-1 input.sk-toggleable__control:checked~div.sk-toggleable__content {max-height: 200px;max-width: 100%;overflow: auto;}#sk-container-id-1 input.sk-toggleable__control:checked~label.sk-toggleable__label-arrow:before {content: \"▾\";}#sk-container-id-1 div.sk-estimator input.sk-toggleable__control:checked~label.sk-toggleable__label {background-color: #d4ebff;}#sk-container-id-1 div.sk-label input.sk-toggleable__control:checked~label.sk-toggleable__label {background-color: #d4ebff;}#sk-container-id-1 input.sk-hidden--visually {border: 0;clip: rect(1px 1px 1px 1px);clip: rect(1px, 1px, 1px, 1px);height: 1px;margin: -1px;overflow: hidden;padding: 0;position: absolute;width: 1px;}#sk-container-id-1 div.sk-estimator {font-family: monospace;background-color: #f0f8ff;border: 1px dotted black;border-radius: 0.25em;box-sizing: border-box;margin-bottom: 0.5em;}#sk-container-id-1 div.sk-estimator:hover {background-color: #d4ebff;}#sk-container-id-1 div.sk-parallel-item::after {content: \"\";width: 100%;border-bottom: 1px solid gray;flex-grow: 1;}#sk-container-id-1 div.sk-label:hover label.sk-toggleable__label {background-color: #d4ebff;}#sk-container-id-1 div.sk-serial::before {content: \"\";position: absolute;border-left: 1px solid gray;box-sizing: border-box;top: 0;bottom: 0;left: 50%;z-index: 0;}#sk-container-id-1 div.sk-serial {display: flex;flex-direction: column;align-items: center;background-color: white;padding-right: 0.2em;padding-left: 0.2em;position: relative;}#sk-container-id-1 div.sk-item {position: relative;z-index: 1;}#sk-container-id-1 div.sk-parallel {display: flex;align-items: stretch;justify-content: center;background-color: white;position: relative;}#sk-container-id-1 div.sk-item::before, #sk-container-id-1 div.sk-parallel-item::before {content: \"\";position: absolute;border-left: 1px solid gray;box-sizing: border-box;top: 0;bottom: 0;left: 50%;z-index: -1;}#sk-container-id-1 div.sk-parallel-item {display: flex;flex-direction: column;z-index: 1;position: relative;background-color: white;}#sk-container-id-1 div.sk-parallel-item:first-child::after {align-self: flex-end;width: 50%;}#sk-container-id-1 div.sk-parallel-item:last-child::after {align-self: flex-start;width: 50%;}#sk-container-id-1 div.sk-parallel-item:only-child::after {width: 0;}#sk-container-id-1 div.sk-dashed-wrapped {border: 1px dashed gray;margin: 0 0.4em 0.5em 0.4em;box-sizing: border-box;padding-bottom: 0.4em;background-color: white;}#sk-container-id-1 div.sk-label label {font-family: monospace;font-weight: bold;display: inline-block;line-height: 1.2em;}#sk-container-id-1 div.sk-label-container {text-align: center;}#sk-container-id-1 div.sk-container {/* jupyter's `normalize.less` sets `[hidden] { display: none; }` but bootstrap.min.css set `[hidden] { display: none !important; }` so we also need the `!important` here to be able to override the default hidden behavior on the sphinx rendered scikit-learn.org. See: https://github.com/scikit-learn/scikit-learn/issues/21755 */display: inline-block !important;position: relative;}#sk-container-id-1 div.sk-text-repr-fallback {display: none;}</style><div id=\"sk-container-id-1\" class=\"sk-top-container\"><div class=\"sk-text-repr-fallback\"><pre>KNeighborsClassifier()</pre><b>In a Jupyter environment, please rerun this cell to show the HTML representation or trust the notebook. <br />On GitHub, the HTML representation is unable to render, please try loading this page with nbviewer.org.</b></div><div class=\"sk-container\" hidden><div class=\"sk-item\"><div class=\"sk-estimator sk-toggleable\"><input class=\"sk-toggleable__control sk-hidden--visually\" id=\"sk-estimator-id-1\" type=\"checkbox\" checked><label for=\"sk-estimator-id-1\" class=\"sk-toggleable__label sk-toggleable__label-arrow\">KNeighborsClassifier</label><div class=\"sk-toggleable__content\"><pre>KNeighborsClassifier()</pre></div></div></div></div></div>"
      ],
      "text/plain": [
       "KNeighborsClassifier()"
      ]
     },
     "execution_count": 191,
     "metadata": {},
     "output_type": "execute_result"
    }
   ],
   "source": [
    "KNN = KNeighborsClassifier()\n",
    "KNN"
   ]
  },
  {
   "cell_type": "code",
   "execution_count": 192,
   "id": "5ad49bd9",
   "metadata": {},
   "outputs": [
    {
     "data": {
      "text/html": [
       "<style>#sk-container-id-2 {color: black;background-color: white;}#sk-container-id-2 pre{padding: 0;}#sk-container-id-2 div.sk-toggleable {background-color: white;}#sk-container-id-2 label.sk-toggleable__label {cursor: pointer;display: block;width: 100%;margin-bottom: 0;padding: 0.3em;box-sizing: border-box;text-align: center;}#sk-container-id-2 label.sk-toggleable__label-arrow:before {content: \"▸\";float: left;margin-right: 0.25em;color: #696969;}#sk-container-id-2 label.sk-toggleable__label-arrow:hover:before {color: black;}#sk-container-id-2 div.sk-estimator:hover label.sk-toggleable__label-arrow:before {color: black;}#sk-container-id-2 div.sk-toggleable__content {max-height: 0;max-width: 0;overflow: hidden;text-align: left;background-color: #f0f8ff;}#sk-container-id-2 div.sk-toggleable__content pre {margin: 0.2em;color: black;border-radius: 0.25em;background-color: #f0f8ff;}#sk-container-id-2 input.sk-toggleable__control:checked~div.sk-toggleable__content {max-height: 200px;max-width: 100%;overflow: auto;}#sk-container-id-2 input.sk-toggleable__control:checked~label.sk-toggleable__label-arrow:before {content: \"▾\";}#sk-container-id-2 div.sk-estimator input.sk-toggleable__control:checked~label.sk-toggleable__label {background-color: #d4ebff;}#sk-container-id-2 div.sk-label input.sk-toggleable__control:checked~label.sk-toggleable__label {background-color: #d4ebff;}#sk-container-id-2 input.sk-hidden--visually {border: 0;clip: rect(1px 1px 1px 1px);clip: rect(1px, 1px, 1px, 1px);height: 1px;margin: -1px;overflow: hidden;padding: 0;position: absolute;width: 1px;}#sk-container-id-2 div.sk-estimator {font-family: monospace;background-color: #f0f8ff;border: 1px dotted black;border-radius: 0.25em;box-sizing: border-box;margin-bottom: 0.5em;}#sk-container-id-2 div.sk-estimator:hover {background-color: #d4ebff;}#sk-container-id-2 div.sk-parallel-item::after {content: \"\";width: 100%;border-bottom: 1px solid gray;flex-grow: 1;}#sk-container-id-2 div.sk-label:hover label.sk-toggleable__label {background-color: #d4ebff;}#sk-container-id-2 div.sk-serial::before {content: \"\";position: absolute;border-left: 1px solid gray;box-sizing: border-box;top: 0;bottom: 0;left: 50%;z-index: 0;}#sk-container-id-2 div.sk-serial {display: flex;flex-direction: column;align-items: center;background-color: white;padding-right: 0.2em;padding-left: 0.2em;position: relative;}#sk-container-id-2 div.sk-item {position: relative;z-index: 1;}#sk-container-id-2 div.sk-parallel {display: flex;align-items: stretch;justify-content: center;background-color: white;position: relative;}#sk-container-id-2 div.sk-item::before, #sk-container-id-2 div.sk-parallel-item::before {content: \"\";position: absolute;border-left: 1px solid gray;box-sizing: border-box;top: 0;bottom: 0;left: 50%;z-index: -1;}#sk-container-id-2 div.sk-parallel-item {display: flex;flex-direction: column;z-index: 1;position: relative;background-color: white;}#sk-container-id-2 div.sk-parallel-item:first-child::after {align-self: flex-end;width: 50%;}#sk-container-id-2 div.sk-parallel-item:last-child::after {align-self: flex-start;width: 50%;}#sk-container-id-2 div.sk-parallel-item:only-child::after {width: 0;}#sk-container-id-2 div.sk-dashed-wrapped {border: 1px dashed gray;margin: 0 0.4em 0.5em 0.4em;box-sizing: border-box;padding-bottom: 0.4em;background-color: white;}#sk-container-id-2 div.sk-label label {font-family: monospace;font-weight: bold;display: inline-block;line-height: 1.2em;}#sk-container-id-2 div.sk-label-container {text-align: center;}#sk-container-id-2 div.sk-container {/* jupyter's `normalize.less` sets `[hidden] { display: none; }` but bootstrap.min.css set `[hidden] { display: none !important; }` so we also need the `!important` here to be able to override the default hidden behavior on the sphinx rendered scikit-learn.org. See: https://github.com/scikit-learn/scikit-learn/issues/21755 */display: inline-block !important;position: relative;}#sk-container-id-2 div.sk-text-repr-fallback {display: none;}</style><div id=\"sk-container-id-2\" class=\"sk-top-container\"><div class=\"sk-text-repr-fallback\"><pre>KNeighborsClassifier()</pre><b>In a Jupyter environment, please rerun this cell to show the HTML representation or trust the notebook. <br />On GitHub, the HTML representation is unable to render, please try loading this page with nbviewer.org.</b></div><div class=\"sk-container\" hidden><div class=\"sk-item\"><div class=\"sk-estimator sk-toggleable\"><input class=\"sk-toggleable__control sk-hidden--visually\" id=\"sk-estimator-id-2\" type=\"checkbox\" checked><label for=\"sk-estimator-id-2\" class=\"sk-toggleable__label sk-toggleable__label-arrow\">KNeighborsClassifier</label><div class=\"sk-toggleable__content\"><pre>KNeighborsClassifier()</pre></div></div></div></div></div>"
      ],
      "text/plain": [
       "KNeighborsClassifier()"
      ]
     },
     "execution_count": 192,
     "metadata": {},
     "output_type": "execute_result"
    }
   ],
   "source": [
    "Knn = KNN.fit(dfx,dfy)\n",
    "Knn"
   ]
  },
  {
   "cell_type": "code",
   "execution_count": 193,
   "id": "72cbcd1a",
   "metadata": {},
   "outputs": [
    {
     "data": {
      "text/plain": [
       "array(['small_airport', 'heliport', 'small_airport', ..., 'small_airport',\n",
       "       'small_airport', 'closed'], dtype=object)"
      ]
     },
     "execution_count": 193,
     "metadata": {},
     "output_type": "execute_result"
    }
   ],
   "source": [
    "pred_test=KNN.predict(dfx)\n",
    "pred_test"
   ]
  },
  {
   "cell_type": "code",
   "execution_count": 194,
   "id": "aab558a3",
   "metadata": {},
   "outputs": [
    {
     "data": {
      "text/plain": [
       "74.0"
      ]
     },
     "execution_count": 194,
     "metadata": {},
     "output_type": "execute_result"
    }
   ],
   "source": [
    "from sklearn.metrics import accuracy_score\n",
    "acuur=round(accuracy_score(dfy,pred_test)*100,0)\n",
    "acuur"
   ]
  },
  {
   "cell_type": "code",
   "execution_count": null,
   "id": "f706c40d",
   "metadata": {},
   "outputs": [],
   "source": []
  }
 ],
 "metadata": {
  "kernelspec": {
   "display_name": "Python 3 (ipykernel)",
   "language": "python",
   "name": "python3"
  },
  "language_info": {
   "codemirror_mode": {
    "name": "ipython",
    "version": 3
   },
   "file_extension": ".py",
   "mimetype": "text/x-python",
   "name": "python",
   "nbconvert_exporter": "python",
   "pygments_lexer": "ipython3",
   "version": "3.9.12"
  }
 },
 "nbformat": 4,
 "nbformat_minor": 5
}
